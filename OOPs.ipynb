{
 "cells": [
  {
   "cell_type": "markdown",
   "id": "6d6928d9-afb4-4d3f-8e44-867fbf1a54e2",
   "metadata": {},
   "source": [
    "### OOP:\n",
    "- It is a type of paradigm ,we can develop software applications by using OOP concepts.\n",
    "- By using OOP concepts we can maintain applications easily,we can create applications in modularity manner and easy to extendable and reuseable.\n",
    "#### OOPs Concepts:\n",
    "##### Class:\n",
    "- It is a blueprint of real world aplications.\n",
    "- Its defination starts with class keyword and class name.\n",
    "- The class have attributes(data) and methods(functions).\n",
    "##### Object:\n",
    "- It is an instance(variable name) of class.\n",
    "- The object have behaviour(methods) and look(attributes).\n",
    "- Example:car have some attribues(color,design,model etc) and methods(start,stop,accelerate etc). \n",
    "##### Abstraction\n",
    "##### Encapsulation\n",
    "##### Polymorphism\n",
    "##### Inheritence"
   ]
  },
  {
   "cell_type": "code",
   "execution_count": null,
   "id": "f8587fb5-3cc8-4c34-a901-2ff9b82f9ad6",
   "metadata": {},
   "outputs": [],
   "source": [
    "#### syntax:\n",
    "##### Class\n",
    "class class_name:\n",
    "    #attributes\n",
    "    #methods\n",
    "\n",
    "##### Object\n"
   ]
  },
  {
   "cell_type": "code",
   "execution_count": 1,
   "id": "06fa465a-f69e-4adb-8d89-1e4ca854560e",
   "metadata": {},
   "outputs": [],
   "source": [
    "#creating class\n",
    "class Student:\n",
    "    #Attributes\n",
    "    school=\"ABC School\"\n",
    "    name=\"Akshaya\"\n",
    "    marks=98\n",
    "#object \n",
    "s1=Student()\n",
    "    "
   ]
  },
  {
   "cell_type": "code",
   "execution_count": 2,
   "id": "0e17b57d-025a-449a-b4d2-68b0058645a7",
   "metadata": {},
   "outputs": [
    {
     "name": "stdout",
     "output_type": "stream",
     "text": [
      "ABC School\n"
     ]
    }
   ],
   "source": [
    "print(s1.school)"
   ]
  },
  {
   "cell_type": "code",
   "execution_count": 4,
   "id": "e913a93d-4ad7-4b85-93f3-23466100c452",
   "metadata": {},
   "outputs": [
    {
     "name": "stdout",
     "output_type": "stream",
     "text": [
      "98\n",
      "Akshaya\n"
     ]
    }
   ],
   "source": [
    "print(s1.marks)\n",
    "print(s1.name)"
   ]
  },
  {
   "cell_type": "code",
   "execution_count": 5,
   "id": "038e0e4f-5f9c-412c-bc88-82431681b7b7",
   "metadata": {},
   "outputs": [
    {
     "name": "stdout",
     "output_type": "stream",
     "text": [
      "98\n",
      "Akshaya\n"
     ]
    }
   ],
   "source": [
    "#creating class\n",
    "class Student:\n",
    "    #Attributes\n",
    "    school=\"ABC School\"\n",
    "    name=\"Akshaya\"\n",
    "    marks=98\n",
    "#object \n",
    "s1=Student()\n",
    "print(s1.marks)\n",
    "print(s1.name)"
   ]
  },
  {
   "cell_type": "code",
   "execution_count": 16,
   "id": "f80f69b3-7b3e-44e5-ba28-640b42d6d3e0",
   "metadata": {},
   "outputs": [
    {
     "name": "stdout",
     "output_type": "stream",
     "text": [
      "25\n",
      "ABC School\n",
      "98\n",
      "ABC School\n"
     ]
    }
   ],
   "source": [
    "#creating class\n",
    "class Student:\n",
    "    school=\"ABC School\"# class Attributes\n",
    "    def __init__(self,name,marks):\n",
    "        self.name=name#instance attributes\n",
    "        self.marks=marks\n",
    "#object \n",
    "s1=Student(\"Codegnan\",25)\n",
    "s2=Student(\"Akshaya\",98)\n",
    "print(s1.marks)\n",
    "print(s1.school)\n",
    "print(s2.marks)\n",
    "print(s2.school)"
   ]
  },
  {
   "cell_type": "code",
   "execution_count": 8,
   "id": "b9a9de7b-00ac-459a-bb62-8724f6b4a824",
   "metadata": {},
   "outputs": [
    {
     "name": "stdout",
     "output_type": "stream",
     "text": [
      "25\n",
      "ABC School\n",
      "98\n",
      "C\n",
      "ABC School\n",
      "Codegnan\n",
      "CMR\n",
      "ABC School\n",
      "XYZ school\n",
      "nmo school\n"
     ]
    }
   ],
   "source": [
    "#creating class\n",
    "class Student:\n",
    "    school=\"ABC School\"# class Attributes(access for all objects)\n",
    "    def __init__(self,name,marks,grade):\n",
    "        self.name=name#instance attributes(access only for particular object)\n",
    "        self.marks=marks\n",
    "        self.grade=grade\n",
    "#object \n",
    "s1=Student(\"Codegnan\",25,\"C\")\n",
    "s2=Student(\"Akshaya\",98,\"A\")\n",
    "print(s1.marks)\n",
    "print(s1.school)\n",
    "print(s2.marks)\n",
    "print(s1.grade)\n",
    "print(s2.school)\n",
    "print(s1.name)\n",
    "s1.name=\"CMR\" #attributes updation(changing name)\n",
    "print(s1.name)\n",
    "print(s1.school)\n",
    "s1.school=\"XYZ school\"#updating school name \n",
    "print(s1.school)\n",
    "s2.school=\"nmo school\"\n",
    "print(s2.school)\n"
   ]
  },
  {
   "cell_type": "markdown",
   "id": "601ec11e-b4fa-4e21-a7c8-232731cbe08c",
   "metadata": {},
   "source": [
    "### Types of Attributes:\n",
    "- Attribute is a variable which can stores the state of an object.\n",
    "#### Types\n",
    "##### Instance Attributes:\n",
    "- The attributes are defined __init__(init)(initialising) constructor.\n",
    "- The init attributes can access for specified object only.\n",
    "##### Class Attributes:\n",
    "- The attributes are defined outside the init constructor.\n",
    "- This attributes can access for entire class objects.\n",
    "## __init__ constructor:\n",
    "- init is a special type of python function, it is used to define instance attributes after the self keyword/parameter.\n",
    "- The init constructor will execute when we create an object for a class.\n",
    "- example:"
   ]
  },
  {
   "cell_type": "code",
   "execution_count": 13,
   "id": "24632f14-7007-4c26-aef8-727b8a26830d",
   "metadata": {},
   "outputs": [
    {
     "name": "stdout",
     "output_type": "stream",
     "text": [
      "student name is Codegnan and 25\n",
      "Akshaya\n",
      "student name is Akshaya and 98\n"
     ]
    }
   ],
   "source": [
    "class Student:\n",
    "    school=\"ABC School\"# class Attributes(access for all objects)\n",
    "    def __init__(self,name,marks,grade):\n",
    "        self.name=name#instance attributes(access only for particular object)\n",
    "        self.marks=marks\n",
    "        self.grade=grade\n",
    "    def display(self):\n",
    "        return (f\"student name is {self.name} and {self.marks}\")\n",
    "#object \n",
    "s1=Student(\"Codegnan\",25,\"C\")\n",
    "s2=Student(\"Akshaya\",98,\"A\")\n",
    "res=s1.display()\n",
    "print(res)\n",
    "print(s2.name)\n",
    "print(s2.display())"
   ]
  },
  {
   "cell_type": "code",
   "execution_count": null,
   "id": "ce49b43d-f8d0-4287-a075-e57be8c977c1",
   "metadata": {},
   "outputs": [],
   "source": []
  }
 ],
 "metadata": {
  "kernelspec": {
   "display_name": "Python 3 (ipykernel)",
   "language": "python",
   "name": "python3"
  },
  "language_info": {
   "codemirror_mode": {
    "name": "ipython",
    "version": 3
   },
   "file_extension": ".py",
   "mimetype": "text/x-python",
   "name": "python",
   "nbconvert_exporter": "python",
   "pygments_lexer": "ipython3",
   "version": "3.12.0"
  }
 },
 "nbformat": 4,
 "nbformat_minor": 5
}
