{
 "cells": [
  {
   "cell_type": "markdown",
   "id": "2fe25f2d-0919-486e-94df-0544ac1c6c0c",
   "metadata": {},
   "source": [
    "#### Encapsulation\n",
    "- Wrapping the data and methods in single unit and the main aim of encapsulation is to prevent the direct access of attributes and methods.\n",
    "- By using encapsulation we can hide the unnecessary things and expose the necessary things.\n",
    "- Encapsulation is used to prevent the direct access of attributes and methods by using access modifiers.\n",
    "##### ACCESS MODIFIERS:3 types in python\n",
    "- PUBLIC:In this we can access the public members(methods+attributes) inside the class, throughout the class and out of the class.\n",
    "- PRIVATE:Private members can be accessed throughout the class but can't access outside the class.In python private members starts with double underscore(__) as prefix.Private members can access outside the class by using name mangling.We can't access private members in subclasses.\n",
    "- PROTECTED:The protected members we can access through out the class but wee can't access protected members directly outside the class.In pythhon protected members starts with _ (single underscore) as prefix.Python doesn't strictly protect the members but we can access the protected members out of the class by using objname._attribute_name (protected attribute access) objname._method_name() (protected method name)"
   ]
  },
  {
   "cell_type": "code",
   "execution_count": 3,
   "id": "9a2dc49d-c731-49a9-b7bb-e12f01f7fae0",
   "metadata": {},
   "outputs": [
    {
     "data": {
      "text/plain": [
       "25"
      ]
     },
     "execution_count": 3,
     "metadata": {},
     "output_type": "execute_result"
    }
   ],
   "source": [
    "#public class\n",
    "class Student:\n",
    "    school=\"ABC School\"# class Attributes(access for all objects)\n",
    "    def __init__(self,name,marks,grade):\n",
    "        self.name=name#instance attributes(access only for particular object)\n",
    "        self.marks=marks\n",
    "        self.grade=grade\n",
    "\n",
    "    def display(self):\n",
    "        return f\"Student name is self.{name} and marks is self.{marks}\" \n",
    "#object \n",
    "s1=Student(\"Codegnan\",25,\"C\")\n",
    "s2=Student(\"Akshaya\",98,\"A\")\n",
    "s1.marks"
   ]
  },
  {
   "cell_type": "code",
   "execution_count": 5,
   "id": "4a36ce3b-46df-4530-9f72-ec372b1de94d",
   "metadata": {},
   "outputs": [
    {
     "name": "stdout",
     "output_type": "stream",
     "text": [
      "Akshaya\n",
      "98\n",
      "Student name is Akshaya and marks is 98\n"
     ]
    }
   ],
   "source": [
    "#protected class\n",
    "class Student:\n",
    "    def __init__(self,name,marks,grade):\n",
    "        self.name=name#instance attributes(access only for particular object)\n",
    "        self._marks=marks#protected attribute\n",
    "        self.grade=grade\n",
    "\n",
    "    def _display(self):\n",
    "        return f\"Student name is {self.name} and marks is {self._marks}\" \n",
    "#object \n",
    "s3=Student(\"Akshaya\",98,\"A\")\n",
    "print(s3.name)\n",
    "print(s3._marks)\n",
    "print(s3._display())"
   ]
  },
  {
   "cell_type": "code",
   "execution_count": 6,
   "id": "098f2936-97c6-488f-a768-7634d6ffaed5",
   "metadata": {},
   "outputs": [
    {
     "name": "stdout",
     "output_type": "stream",
     "text": [
      "Akshaya\n",
      "98\n",
      "Student name is Akshaya and marks is 98\n"
     ]
    }
   ],
   "source": [
    "#private class\n",
    "class Student:\n",
    "    def __init__(self,name,marks,grade):\n",
    "        self.name=name#instance attributes(access only for particular object)\n",
    "        self.__marks=marks#private attribute\n",
    "        self.grade=grade\n",
    "\n",
    "    def __display(self):\n",
    "        return f\"Student name is {self.name} and marks is {self.__marks}\" \n",
    "#object \n",
    "s4=Student(\"Akshaya\",98,\"A\")\n",
    "print(s4.name)\n",
    "print(s4._Student__marks)\n",
    "print(s4._Student__display())"
   ]
  },
  {
   "cell_type": "markdown",
   "id": "96199e74-1266-4ced-a006-09cadbb40416",
   "metadata": {},
   "source": [
    "obj_name._classname__attributename #name mangling syntax(outside the class)\n",
    "Example:\n",
    "s4._Student__marks"
   ]
  },
  {
   "cell_type": "code",
   "execution_count": null,
   "id": "5a4066cf-d482-466e-a0b6-32e752e721bf",
   "metadata": {},
   "outputs": [],
   "source": []
  }
 ],
 "metadata": {
  "kernelspec": {
   "display_name": "Python 3 (ipykernel)",
   "language": "python",
   "name": "python3"
  },
  "language_info": {
   "codemirror_mode": {
    "name": "ipython",
    "version": 3
   },
   "file_extension": ".py",
   "mimetype": "text/x-python",
   "name": "python",
   "nbconvert_exporter": "python",
   "pygments_lexer": "ipython3",
   "version": "3.12.0"
  }
 },
 "nbformat": 4,
 "nbformat_minor": 5
}
