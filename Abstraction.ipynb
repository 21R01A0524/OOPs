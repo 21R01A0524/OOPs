{
 "cells": [
  {
   "cell_type": "markdown",
   "id": "e48589d3-32d2-4f2b-b22e-f0be7d305476",
   "metadata": {},
   "source": [
    "#### Abstraction:\n",
    "- Abstraction in python involves hiding the complex implementation details of a system(it involves) and exposing only essential functionality to the user.\n",
    "##### Abstract Class:\n",
    "- In python a class that cannot be instanciated(object creation) directly and serves as a blue print for others classes. It contains both abstract methods and concrete methods.\n",
    "- Only method name no implementation.\n",
    "##### Abstract Method:\n",
    "- A method declare within an abstract class but without an implementation subclass inheriting from the obstract class or required to provide concrete implementation for the abstract methods.\n",
    "- In python directly we cannot achieve abstraction(by the) base class module(abc) we can get the abstraction.\n",
    "- A class which is inherits from ABC module and the class atleast have one abstract class then that class is known as abstract class.\n",
    "- Abstract class and abstract method and in concrete class is called concrete method.\n"
   ]
  },
  {
   "cell_type": "code",
   "execution_count": 1,
   "id": "ed3b1f7e-0a6e-418e-87da-9869bf5ffe23",
   "metadata": {},
   "outputs": [
    {
     "name": "stdout",
     "output_type": "stream",
     "text": [
      "Honda car uses Petrol as fuel\n",
      "Honda car have 4 seats\n"
     ]
    }
   ],
   "source": [
    "from abc import ABC, abstractmethod\n",
    "class Car(ABC):\n",
    "    @abstractmethod\n",
    "    def fuel(self):\n",
    "        pass\n",
    "    @abstractmethod   \n",
    "    def speed(self):\n",
    "        pass\n",
    "class Honda(Car):\n",
    "    def fuel(self):\n",
    "        print(\"Honda car uses Petrol as fuel\")\n",
    "    def speed(Self):\n",
    "        print(\"Honda car high speed is 125kmph\")\n",
    "    def seater(self):\n",
    "        print(\"Honda car have 4 seats\")\n",
    "h=Honda()\n",
    "h.fuel()\n",
    "h.seater()"
   ]
  },
  {
   "cell_type": "code",
   "execution_count": 2,
   "id": "8ef81621-2d90-4b47-82a0-6492d984ca77",
   "metadata": {},
   "outputs": [
    {
     "name": "stdout",
     "output_type": "stream",
     "text": [
      "Honda car uses Petrol as fuel\n",
      "Honda car have 4 seats\n",
      "Car needs engine\n"
     ]
    }
   ],
   "source": [
    "from abc import ABC, abstractmethod\n",
    "class Car(ABC):\n",
    "    @abstractmethod\n",
    "    def fuel(self):\n",
    "        pass\n",
    "    # concrete method\n",
    "    def engine(self):\n",
    "        print(\"Car needs engine\") \n",
    "    @abstractmethod   \n",
    "    def speed(self):\n",
    "        pass\n",
    "class Honda(Car):\n",
    "    def fuel(self):\n",
    "        print(\"Honda car uses Petrol as fuel\")\n",
    "    def speed(Self):\n",
    "        print(\"Honda car high speed is 125kmph\")\n",
    "    def seater(self):\n",
    "        print(\"Honda car have 4 seats\")\n",
    "h=Honda()\n",
    "h.fuel()\n",
    "h.seater()\n",
    "h.engine()"
   ]
  },
  {
   "cell_type": "code",
   "execution_count": 4,
   "id": "41a8e371-4c84-497b-9194-b93441aaf8b9",
   "metadata": {},
   "outputs": [
    {
     "name": "stdout",
     "output_type": "stream",
     "text": [
      "Borrowed: Python Basics\n",
      "Borrowed: Python Basics\n",
      "Returned: Python Basics\n",
      "Book not found!\n"
     ]
    }
   ],
   "source": [
    "#Library management system\n",
    "class Book:\n",
    "    def __init__(self, title, author, isbn, available_copies):\n",
    "        self.__title = title\n",
    "        self.__author = author\n",
    "        self.__isbn = isbn\n",
    "        self.__available_copies = available_copies\n",
    "    def get_isbn(self):\n",
    "        return self.__isbn\n",
    "    def get_title(self):\n",
    "        return self.__title\n",
    "    def get_author(self):\n",
    "        return self.__author\n",
    "    def get_available_copies(self):\n",
    "        return self.__available_copies\n",
    "    def decrease_copy(self):\n",
    "        if self.__available_copies > 0:\n",
    "            self.__available_copies -= 1\n",
    "            return True\n",
    "        return False\n",
    "    def increase_copy(self):\n",
    "        self.__available_copies += 1\n",
    "class Library:\n",
    "    def __init__(self):\n",
    "        self.__books = {}\n",
    "    def add_book(self, book):\n",
    "        self.__books[book.get_isbn()] = book\n",
    "    def borrow_book(self, isbn):\n",
    "        if isbn in self.__books:\n",
    "            if self.__books[isbn].decrease_copy():\n",
    "                print(f\"Borrowed: {self.__books[isbn].get_title()}\")\n",
    "            else:\n",
    "                print(\"No copies available!\")\n",
    "        else:\n",
    "            print(\"Book not found!\")\n",
    "\n",
    "    def return_book(self, isbn):\n",
    "        if isbn in self.__books:\n",
    "            self.__books[isbn].increase_copy()\n",
    "            print(f\"Returned: {self.__books[isbn].get_title()}\")\n",
    "        else:\n",
    "            print(\"Book not found!\")\n",
    "\n",
    "book1 = Book(\"Python Basics\", \"Guido\", \"101\", 3)\n",
    "book2 = Book(\"Data Science\", \"Wes\", \"102\", 2)\n",
    "\n",
    "library = Library()\n",
    "library.add_book(book1)\n",
    "library.add_book(book2)\n",
    "\n",
    "library.borrow_book(\"101\")\n",
    "library.borrow_book(\"101\")\n",
    "library.return_book(\"101\")\n",
    "library.borrow_book(\"103\")\n"
   ]
  },
  {
   "cell_type": "code",
   "execution_count": 5,
   "id": "e4852c14-66b7-4a94-8ceb-5b4ef633f711",
   "metadata": {},
   "outputs": [
    {
     "name": "stdout",
     "output_type": "stream",
     "text": [
      "[Manager] ID: 1, Name: Alice, Salary: 50000, Bonus: 10000\n",
      "[Developer] ID: 2, Name: Bob, Salary: 40000, Language: Python\n",
      "[Developer] ID: 3, Name: Charlie, Salary: 45000, Language: Java\n",
      "Total Expense: 145000\n"
     ]
    }
   ],
   "source": [
    "#employee management\n",
    "class Employee:\n",
    "    def __init__(self, name, emp_id, salary):\n",
    "        self.name = name\n",
    "        self.emp_id = emp_id\n",
    "        self.salary = salary\n",
    "    def get_total_salary(self):\n",
    "        return self.salary\n",
    "    def __str__(self):\n",
    "        return f\"ID: {self.emp_id}, Name: {self.name}, Salary: {self.salary}\"\n",
    "class Manager(Employee):\n",
    "    def __init__(self, name, emp_id, salary, bonus):\n",
    "        super().__init__(name, emp_id, salary)\n",
    "        self.bonus = bonus\n",
    "    def get_total_salary(self):\n",
    "        return self.salary + self.bonus\n",
    "    def __str__(self):\n",
    "        return f\"[Manager] {super().__str__()}, Bonus: {self.bonus}\"\n",
    "class Developer(Employee):\n",
    "    def __init__(self, name, emp_id, salary, programming_language):\n",
    "        super().__init__(name, emp_id, salary)\n",
    "        self.programming_language = programming_language\n",
    "    def __str__(self):\n",
    "        return f\"[Developer] {super().__str__()}, Language: {self.programming_language}\"\n",
    "def calculate_total_expense(employees_list):\n",
    "    total = 0\n",
    "    for emp in employees_list:\n",
    "        total += emp.get_total_salary()\n",
    "    return total\n",
    "emp1 = Manager(\"Alice\", 1, 50000, 10000)\n",
    "emp2 = Developer(\"Bob\", 2, 40000, \"Python\")\n",
    "emp3 = Developer(\"Charlie\", 3, 45000, \"Java\")\n",
    "employees = [emp1, emp2, emp3]\n",
    "for emp in employees:\n",
    "    print(emp)\n",
    "print(\"Total Expense:\", calculate_total_expense(employees))"
   ]
  },
  {
   "cell_type": "code",
   "execution_count": null,
   "id": "7ff0f479-caeb-4bbf-a686-2457ca83fd30",
   "metadata": {},
   "outputs": [],
   "source": []
  }
 ],
 "metadata": {
  "kernelspec": {
   "display_name": "Python 3 (ipykernel)",
   "language": "python",
   "name": "python3"
  },
  "language_info": {
   "codemirror_mode": {
    "name": "ipython",
    "version": 3
   },
   "file_extension": ".py",
   "mimetype": "text/x-python",
   "name": "python",
   "nbconvert_exporter": "python",
   "pygments_lexer": "ipython3",
   "version": "3.12.0"
  }
 },
 "nbformat": 4,
 "nbformat_minor": 5
}
