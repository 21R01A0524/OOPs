{
 "cells": [
  {
   "cell_type": "markdown",
   "id": "d839f9c4-3b1b-4be2-8100-3539bdbf83c7",
   "metadata": {},
   "source": [
    "#### Inheritance:\n",
    "- To access the property of one class(parent class) to another class(child class).\n",
    "- By using child class object we can access both parent class and child class properties but by using parent class we can only access parent class properties but not the child class properties.\n",
    "##### Types\n",
    "- Single Inheritance:One class(child class) directs the properties from another class(parent class)\n",
    "- MultiLevel Inheritance: A class is derived from another class,which itself is derived from another class.\n",
    "- Multiple Inheritance:A class is derived from multiple base classes.\n",
    "- Hierarchical Inheritance:Multiple child class is derived from single parent class.\n",
    "- Hybrid Inheritance:combination of two or more inheritance types."
   ]
  },
  {
   "cell_type": "code",
   "execution_count": null,
   "id": "152a21f7-2999-44b2-8f1a-ce4ce59a323a",
   "metadata": {},
   "outputs": [],
   "source": [
    "#syntax for inheritance\n",
    "class Parent_class:\n",
    "    #attributes\n",
    "    #methods\n",
    "class child_class(Parent_class):\n",
    "    #attributes\n",
    "    #methods"
   ]
  },
  {
   "cell_type": "code",
   "execution_count": 5,
   "id": "92a5a814-0dea-4dc0-a690-fd282263ad7e",
   "metadata": {},
   "outputs": [
    {
     "name": "stdout",
     "output_type": "stream",
     "text": [
      "Student name is Akshaya and gender is female\n"
     ]
    }
   ],
   "source": [
    "class Student:#parent/base/super class\n",
    "    def __init__(self,name):\n",
    "        self.name=name\n",
    "class boy(Student):#child/sub/derived class\n",
    "    def get_gender(self):\n",
    "        print(f\"Student name is {self.name} and gender is male\")\n",
    "class girl(Student):\n",
    "    def get_gender(self):\n",
    "        print(f\"Student name is {self.name} and gender is female\")\n",
    "g=girl(\"Akshaya\")\n",
    "g.get_gender()"
   ]
  },
  {
   "cell_type": "code",
   "execution_count": 37,
   "id": "42778915-79cd-4f19-adee-534cfe437dfe",
   "metadata": {},
   "outputs": [
    {
     "name": "stdout",
     "output_type": "stream",
     "text": [
      "Name is Akshaya and age is 10 and phone is 9090 \n",
      "Ak\n",
      "Name is Ak and age is 25 and phone is oppo \n"
     ]
    }
   ],
   "source": [
    "#using super keyword\n",
    "class Person:\n",
    "    def __init__(self,name,age,phone):\n",
    "        self.name=name\n",
    "        self.age=age\n",
    "        self.phone=phone\n",
    "    #method creation\n",
    "    def show(self):\n",
    "        return f\"Name is {self.name} and age is {self.age} and phone is {self.phone} \"\n",
    "class Student(Person):\n",
    "    def __init__(self,name,age,roll_no,phone):\n",
    "        #self.name=name\n",
    "        #self.age=age\n",
    "        super().__init__(name,age,phone)#if we don't want any value we need to include that both in def and super without deleting\n",
    "        self.roll_no=roll_no\n",
    "  #method creation\n",
    "    #def show(self):\n",
    "     #   return f\"Name is {self.name} and age is {self.age}\"\n",
    "    pass\n",
    "s=Student(\"Akshaya\",10,524,9090)#child class object \n",
    "print(s.show())\n",
    "s1=Person(\"Ak\",25,\"oppo\")#parent class object\n",
    "print(s1.name)\n",
    "print(s1.show())"
   ]
  },
  {
   "cell_type": "code",
   "execution_count": 59,
   "id": "47affe06-0b17-488f-ac05-2a6909c28136",
   "metadata": {},
   "outputs": [
    {
     "name": "stdout",
     "output_type": "stream",
     "text": [
      "Name is Akshaya and age is 10\n",
      "Name is Akshayaand roll number is 524 \n",
      "None\n",
      "Ak\n",
      "Name is Ak and age is 25\n",
      "None\n"
     ]
    }
   ],
   "source": [
    "class Person:\n",
    "    def __init__(self,name,age):\n",
    "        self.name=name\n",
    "        self.age=age\n",
    "    #method creation\n",
    "    def show(self):\n",
    "        print(f\"Name is {self.name} and age is {self.age}\")\n",
    "class Student(Person):\n",
    "    def __init__(self,name,age,roll_no):\n",
    "        #self.name=name\n",
    "        #self.age=age\n",
    "        super().__init__(name,age)#if we don't want any value we need to include that both in def and super without deleting\n",
    "        self.roll_no=roll_no\n",
    "  #method creation\n",
    "    def show(self):\n",
    "        super().show()\n",
    "        print(f\"Name is {self.name}and roll number is {self.roll_no} \")\n",
    "    pass\n",
    "s=Student(\"Akshaya\",10,524)#child class object \n",
    "print(s.show())\n",
    "s1=Person(\"Ak\",25,)#parent class object\n",
    "print(s1.name)\n",
    "print(s1.show())"
   ]
  },
  {
   "cell_type": "code",
   "execution_count": 63,
   "id": "a5a65ab3-8cd6-44da-b0fc-393e168a1919",
   "metadata": {},
   "outputs": [
    {
     "name": "stdout",
     "output_type": "stream",
     "text": [
      "From class A\n"
     ]
    }
   ],
   "source": [
    "#simple form\n",
    "class A:\n",
    "    def a_method(self):\n",
    "        print(\"From class A\")\n",
    "class B(A):\n",
    "    def b_method(self):\n",
    "        print(\"From class B\")\n",
    "b=B()\n",
    "b.a_method()"
   ]
  },
  {
   "cell_type": "code",
   "execution_count": 6,
   "id": "df4cf4e0-a1c2-4a66-9887-db9d32e8d3c7",
   "metadata": {},
   "outputs": [
    {
     "name": "stdout",
     "output_type": "stream",
     "text": [
      "Name is Akshaya and salary is 6LPA\n"
     ]
    }
   ],
   "source": [
    "#multilevel Inheritance\n",
    "class Person:\n",
    "    def __init__(self,name,age):\n",
    "        self.name=name\n",
    "        self.age=age\n",
    "    #method creation\n",
    "    def show(self):\n",
    "        return f\"Name is {self.name} and age is {self.age}\"\n",
    "class Student(Person):\n",
    "    def __init__(self,name,age,education):\n",
    "        #self.name=name\n",
    "        #self.age=age\n",
    "        super().__init__(name,age)#if we don't want any value we need to include that both in def and super without deleting\n",
    "        self.education=education\n",
    "  #method creation\n",
    "    def show(self):\n",
    "        super().show()\n",
    "        return f\"Name is {self.name} and education is {self.education} \"\n",
    "class Employee(Student):\n",
    "    def __init__(self,name,age,education,salary):\n",
    "        super().__init__(name,age,education)\n",
    "        self.salary=salary\n",
    "    def show(self):\n",
    "        #print(f\"Name is {self.name} and salary is {self.salary}\")\n",
    "        return f\"Name is {self.name} and salary is {self.salary}\"\n",
    "\n",
    "s=Student(\"Akshaya\",10,524)#child class object \n",
    "#print(s.show())\n",
    "s1=Person(\"Ak\",25,)#parent class object\n",
    "#print(s1.name)\n",
    "#print(s1.show())\n",
    "s3=Employee(\"Akshaya\",21,\"Btech\",\"6LPA\")\n",
    "#print(s3.age)\n",
    "print(s3.show())"
   ]
  },
  {
   "cell_type": "code",
   "execution_count": 29,
   "id": "b97227d3-b6f9-4f58-bef7-ba0c597250c3",
   "metadata": {},
   "outputs": [
    {
     "name": "stdout",
     "output_type": "stream",
     "text": [
      "Akshaya\n",
      "Pallavi\n",
      "JayaRam Reddy\n",
      "Child Name is Akshaya and age is 21\n"
     ]
    }
   ],
   "source": [
    "#Multiple inheritance\n",
    "class Father:\n",
    "    def __init__(self,name):\n",
    "        self.name=name\n",
    "    #method creation\n",
    "    def show_name(self):\n",
    "        return self.name\n",
    "class Mother:\n",
    "    def __init__(self,name):\n",
    "        self.name=name\n",
    "    #method creation\n",
    "    def show_name(self):\n",
    "        return self.name\n",
    "class Child(Father,Mother):\n",
    "    def __init__(self,name,age):\n",
    "        super().__init__(name)\n",
    "        self.age=age\n",
    "    #method creation\n",
    "    def show_child(self):\n",
    "        super().show_name\n",
    "        return f\"Child Name is {self.name} and age is {self.age}\"\n",
    "c=Child(\"Akshaya\",21)\n",
    "print(c.name)\n",
    "m=Mother(\"Pallavi\")\n",
    "print(m.name)\n",
    "f=Father(\"JayaRam Reddy\")\n",
    "print(f.name)\n",
    "print(c.show_child())\n"
   ]
  },
  {
   "cell_type": "code",
   "execution_count": 34,
   "id": "c71f6c92-122b-4a19-a374-f40921bb955e",
   "metadata": {},
   "outputs": [
    {
     "name": "stdout",
     "output_type": "stream",
     "text": [
      "I am mother class\n",
      "I am Father class\n",
      "(<class '__main__.Child'>, <class '__main__.Father'>, <class '__main__.Mother'>, <class 'object'>)\n",
      "Child Name is Akshaya and age is 21\n"
     ]
    }
   ],
   "source": [
    "#Multiple inheritance\n",
    "class Father:\n",
    "    def __init__(self,name):\n",
    "        self.name=name\n",
    "    #method creation\n",
    "    def show_name(self):\n",
    "        #return self.name\n",
    "        return \"I am Father class\"\n",
    "class Mother:\n",
    "    def __init__(self,name):\n",
    "        self.name=name\n",
    "    #method creation\n",
    "    def show_name(self):\n",
    "        #return self.name\n",
    "        return \"I am mother class\"\n",
    "class Child(Father,Mother):\n",
    "    def __init__(self,name,age):\n",
    "        super().__init__(name)\n",
    "        self.age=age\n",
    "    #method creation\n",
    "    def show_name(self):\n",
    "        super().show_name\n",
    "        #print(super().show_name())\n",
    "        return f\"Child Name is {self.name} and age is {self.age}\"\n",
    "c=Child(\"Akshaya\",21)\n",
    "#print(c.name)\n",
    "m=Mother(\"Pallavi\")\n",
    "#print(m.name)\n",
    "f=Father(\"JayaRam Reddy\")\n",
    "#print(f.name)\n",
    "print(m.show_name())\n",
    "print(f.show_name())\n",
    "print(Child.__mro__)\n",
    "print(c.show_name())\n"
   ]
  },
  {
   "cell_type": "code",
   "execution_count": 33,
   "id": "0abb148a-de87-4c3e-866f-53b61cd568c2",
   "metadata": {},
   "outputs": [
    {
     "name": "stdout",
     "output_type": "stream",
     "text": [
      "I am mother class\n",
      "None\n",
      "I am Father class\n",
      "None\n",
      "(<class '__main__.Child'>, <class '__main__.Father'>, <class '__main__.Mother'>, <class 'object'>)\n",
      "Child Name is Akshaya and age is 21\n"
     ]
    }
   ],
   "source": [
    "#Multiple inheritance\n",
    "class Father:\n",
    "    def __init__(self,name):\n",
    "        self.name=name\n",
    "    #method creation\n",
    "    def show_name(self):\n",
    "        #return self.name\n",
    "        print(\"I am Father class\")\n",
    "class Mother:\n",
    "    def __init__(self,name):\n",
    "        self.name=name\n",
    "    #method creation\n",
    "    def show_name(self):\n",
    "        #return self.name\n",
    "        print(\"I am mother class\")\n",
    "class Child(Father,Mother):\n",
    "    def __init__(self,name,age):\n",
    "        super().__init__(name)\n",
    "        self.age=age\n",
    "    #method creation\n",
    "    def show_name(self):\n",
    "        super().show_name\n",
    "        #print(super().show_name())\n",
    "        return f\"Child Name is {self.name} and age is {self.age}\"\n",
    "c=Child(\"Akshaya\",21)\n",
    "#print(c.name)\n",
    "m=Mother(\"Pallavi\")\n",
    "#print(m.name)\n",
    "f=Father(\"JayaRam Reddy\")\n",
    "#print(f.name)\n",
    "print(m.show_name())\n",
    "print(f.show_name())\n",
    "print(Child.__mro__)#method resolution order(MRO):used to check the order of execution.\n",
    "print(c.show_name())\n"
   ]
  },
  {
   "cell_type": "code",
   "execution_count": 36,
   "id": "b0d3f477-41d9-4811-9649-a648cc37c851",
   "metadata": {},
   "outputs": [
    {
     "name": "stdout",
     "output_type": "stream",
     "text": [
      "Pallavi\n",
      "I am Father class\n",
      "None\n",
      "(<class '__main__.Child'>, <class '__main__.Father'>, <class '__main__.Mother'>, <class 'object'>)\n",
      "Child Name is Akshaya and age is 21\n"
     ]
    }
   ],
   "source": [
    "#Multiple inheritance\n",
    "class Father:\n",
    "    def __init__(self,name):\n",
    "        self.name=name\n",
    "    #method creation\n",
    "    def show_name(self):\n",
    "        #return self.name\n",
    "        print(\"I am Father class\")\n",
    "class Mother:\n",
    "    def __init__(self,name):\n",
    "        self.name=name\n",
    "    #method creation\n",
    "    def show_name(self):\n",
    "        return self.name\n",
    "    def details(self):\n",
    "        return \"I am your mother\"\n",
    "        print(\"I am mother class\")\n",
    "class Child(Father,Mother):\n",
    "    def __init__(self,name,age):\n",
    "        super().__init__(name)\n",
    "        self.age=age\n",
    "    #method creation\n",
    "    def show_name(self):\n",
    "        super().show_name\n",
    "        #print(super().show_name())\n",
    "        return f\"Child Name is {self.name} and age is {self.age}\"\n",
    "c=Child(\"Akshaya\",21)\n",
    "#print(c.name)\n",
    "m=Mother(\"Pallavi\")\n",
    "#print(m.name)\n",
    "f=Father(\"JayaRam Reddy\")\n",
    "#print(f.name)\n",
    "print(m.show_name())\n",
    "print(f.show_name())\n",
    "print(Child.__mro__)#method resolution order(MRO):used to check the order of execution in classes.\n",
    "print(c.show_name())\n"
   ]
  },
  {
   "cell_type": "markdown",
   "id": "602a9d63-10da-4368-b721-bdb29d41c5b6",
   "metadata": {},
   "source": [
    "#### SUPER:\n",
    "- The super method is used to access the parent class attributes and methods in child class.\n",
    "#### Method Resolution Order(MRO):\n",
    "- This MRO is a order in which python looks for method in a hierarity of class."
   ]
  },
  {
   "cell_type": "code",
   "execution_count": 44,
   "id": "47581a68-a412-439b-b9c6-32ec21b7a06c",
   "metadata": {},
   "outputs": [
    {
     "name": "stdout",
     "output_type": "stream",
     "text": [
      "Name is Akshaya and age is 21\n",
      "Name is Akshaya and salary is 600000\n"
     ]
    }
   ],
   "source": [
    "#Hierarchical Inheritance\n",
    "class Person:\n",
    "    def __init__(self,name,age):\n",
    "        self.name=name\n",
    "        self.age=age\n",
    "    #method creation\n",
    "    def show(self):\n",
    "        return f\"Name is {self.name} and age is {self.age}\"\n",
    "class Student(Person):\n",
    "    def __init__(self,name,age,education):\n",
    "        #self.name=name\n",
    "        #self.age=age\n",
    "        super().__init__(name,age)#if we don't want any value we need to include that both in def and super without deleting\n",
    "        self.education=education\n",
    "class Employee(Person):\n",
    "    def __init__(self,name,age,salary):\n",
    "        super().__init__(name,age)\n",
    "        self.salary=salary\n",
    "    def show(self):\n",
    "        print(super().show())\n",
    "        #print(f\"Name is {self.name} and salary is {self.salary}\")\n",
    "        return f\"Name is {self.name} and salary is {self.salary}\"\n",
    "\n",
    "s=Student(\"Akshaya\",10,524)#child class object \n",
    "#print(s.show())\n",
    "s1=Person(\"Ak\",25,)#parent class object\n",
    "#print(s1.name)\n",
    "#print(s1.show())\n",
    "s3=Employee(\"Akshaya\",21,600000)\n",
    "#print(s3.age)\n",
    "print(s3.show())"
   ]
  },
  {
   "cell_type": "code",
   "execution_count": 65,
   "id": "f6f586ad-0cea-4e42-96df-4b75695ca332",
   "metadata": {},
   "outputs": [
    {
     "name": "stdout",
     "output_type": "stream",
     "text": [
      "Grand Parent name: Reddy\n",
      "Parent Name: Jayaram\n",
      "Child name: Akshaya\n"
     ]
    },
    {
     "ename": "AttributeError",
     "evalue": "'NoneType' object has no attribute 'display'",
     "output_type": "error",
     "traceback": [
      "\u001b[31m---------------------------------------------------------------------------\u001b[39m",
      "\u001b[31mAttributeError\u001b[39m                            Traceback (most recent call last)",
      "\u001b[36mCell\u001b[39m\u001b[36m \u001b[39m\u001b[32mIn[65]\u001b[39m\u001b[32m, line 22\u001b[39m\n\u001b[32m     20\u001b[39m family.P_name()\n\u001b[32m     21\u001b[39m family.Child_name()\n\u001b[32m---> \u001b[39m\u001b[32m22\u001b[39m \u001b[43md\u001b[49m\u001b[43m.\u001b[49m\u001b[43mdisplay\u001b[49m()\n",
      "\u001b[31mAttributeError\u001b[39m: 'NoneType' object has no attribute 'display'"
     ]
    }
   ],
   "source": [
    "#Hybrid Inheritance\n",
    "class Grand_parent:\n",
    "    def g_p_name(self):\n",
    "        print(\"Grand Parent name:\",g_p_name)\n",
    "class Parent(Grand_parent):\n",
    "    def P_name(self):\n",
    "        print(\"Parent Name:\",P_name)\n",
    "class Child(Grand_parent):\n",
    "    def Child_name(self):\n",
    "        print(\"Child name:\",Child_name)\n",
    "class Family(Child,Parent):\n",
    "    def display(self):\n",
    "        return \"I am child of parent \"\n",
    "d=display()\n",
    "family=Family()\n",
    "g_p_name=\"Reddy\"\n",
    "P_name=\"Jayaram\"\n",
    "Child_name=\"Akshaya\"\n",
    "family.g_p_name()\n",
    "family.P_name()\n",
    "family.Child_name()\n",
    "d.display()\n"
   ]
  },
  {
   "cell_type": "code",
   "execution_count": null,
   "id": "f7e4f45e-767f-4499-be4e-31718b1fd210",
   "metadata": {},
   "outputs": [],
   "source": []
  }
 ],
 "metadata": {
  "kernelspec": {
   "display_name": "Python 3 (ipykernel)",
   "language": "python",
   "name": "python3"
  },
  "language_info": {
   "codemirror_mode": {
    "name": "ipython",
    "version": 3
   },
   "file_extension": ".py",
   "mimetype": "text/x-python",
   "name": "python",
   "nbconvert_exporter": "python",
   "pygments_lexer": "ipython3",
   "version": "3.12.0"
  }
 },
 "nbformat": 4,
 "nbformat_minor": 5
}
