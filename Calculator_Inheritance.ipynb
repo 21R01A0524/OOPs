{
 "cells": [
  {
   "cell_type": "code",
   "execution_count": 12,
   "id": "9b468e62-f1b6-43d4-ad7c-2fa16d1f9687",
   "metadata": {},
   "outputs": [
    {
     "name": "stdin",
     "output_type": "stream",
     "text": [
      " 12\n",
      " 5\n"
     ]
    },
    {
     "name": "stdout",
     "output_type": "stream",
     "text": [
      "addition 17\n",
      "subtraction 7\n",
      "multiplication 60\n",
      "division 2.4\n",
      "power 248832\n",
      "square root 3.4641016151377544\n",
      "square root 2.23606797749979\n",
      "modulus 1\n",
      "Factorial of 12 is : 479001600\n",
      "Factorial of 5 is : 120\n",
      "Logarithm of 12: 1.0791812460476247\n",
      "Logarithm of 5: 0.6989700043360187\n"
     ]
    }
   ],
   "source": [
    "import math\n",
    "class Calculator:\n",
    "    def add(self, a, b):\n",
    "        return a + b   \n",
    "    def subtract(self, a, b):\n",
    "        return a - b\n",
    "    def multiply(self, a, b):\n",
    "        return a * b\n",
    "    def divide(self, a, b):\n",
    "        if b == 0:\n",
    "            return \"Error! Division by zero.\"\n",
    "        return a / b\n",
    "class AdvancedCalculator(Calculator):\n",
    "    def power(self, a, b):\n",
    "        return a ** b\n",
    "    def square_root(self, a):\n",
    "        if a < 0:\n",
    "            return \"Error! Cannot find square root of negative number.\"\n",
    "        return math.sqrt(a)\n",
    "    def modulus(self, a, b):\n",
    "        return a % b\n",
    "adv_calc = AdvancedCalculator()\n",
    "a=int(input())\n",
    "b=int(input())\n",
    "print(\"addition\", calc.add(a,b))\n",
    "print(\"subtraction\", calc.subtract(a,b))\n",
    "print(\"multiplication\", calc.multiply(a,b))\n",
    "print(\"division\", calc.divide(a,b))\n",
    "print(\"power\", calc.power(a,b))\n",
    "print(\"square root\", calc.square_root(a))\n",
    "print(\"square root\", calc.square_root(b))\n",
    "print(\"modulus\", calc.modulus(10, 3))\n",
    "print(f\"Factorial of {a} is :\",calc.factorial(a))\n",
    "print(f\"Factorial of {b} is :\",calc.factorial(b))\n",
    "print(f\"Logarithm of {a}:\", calc.logarithm(a))\n",
    "print(f\"Logarithm of {b}:\", calc.logarithm(b))\n"
   ]
  },
  {
   "cell_type": "code",
   "execution_count": 15,
   "id": "cd66b0e0-6768-4396-97d1-03041c9beb75",
   "metadata": {},
   "outputs": [
    {
     "name": "stdin",
     "output_type": "stream",
     "text": [
      " 15\n",
      " 2\n"
     ]
    },
    {
     "name": "stdout",
     "output_type": "stream",
     "text": [
      "addition 17\n",
      "subtraction 13\n",
      "multiplication 30\n",
      "division 7.5\n",
      "power 225\n",
      "square root 3.872983346207417\n",
      "square root 1.4142135623730951\n",
      "modulus 1\n"
     ]
    }
   ],
   "source": [
    "import math\n",
    "class BasicOperations:\n",
    "    def add(self, a, b):\n",
    "        return a + b   \n",
    "    def subtract(self, a, b):\n",
    "        return a - b\n",
    "    def multiply(self, a, b):\n",
    "        return a * b\n",
    "    def divide(self, a, b):\n",
    "        if b == 0:\n",
    "            return \"Error! Division by zero.\"\n",
    "        return a / b\n",
    "# Class 2: Advanced operations\n",
    "class AdvancedOperations:\n",
    "    def power(self, a, b):\n",
    "        return a ** b\n",
    "    def square_root(self, a):\n",
    "        if a < 0:\n",
    "            return \"Error! Cannot find square root of negative number.\"\n",
    "        return math.sqrt(a)\n",
    "    def modulus(self, a, b):\n",
    "        return a % b\n",
    "class Calculator(BasicOperations, AdvancedOperations):\n",
    "    pass\n",
    "calc = Calculator()\n",
    "a=int(input())\n",
    "b=int(input())\n",
    "print(\"addition\", calc.add(a,b))\n",
    "print(\"subtraction\", calc.subtract(a,b))\n",
    "print(\"multiplication\", calc.multiply(a,b))\n",
    "print(\"division\", calc.divide(a,b))\n",
    "print(\"power\", calc.power(a,b))\n",
    "print(\"square root\", calc.square_root(a))\n",
    "print(\"square root\", calc.square_root(b))\n",
    "print(\"modulus\", calc.modulus(10, 3))\n"
   ]
  },
  {
   "cell_type": "code",
   "execution_count": 17,
   "id": "4363ebc8-79ac-4898-86fc-5941e51b5d7b",
   "metadata": {},
   "outputs": [
    {
     "name": "stdin",
     "output_type": "stream",
     "text": [
      " 15\n",
      " 2\n"
     ]
    },
    {
     "name": "stdout",
     "output_type": "stream",
     "text": [
      "Hierarchical Inheritance Demo:\n",
      "Welcome to the Calculator!\n",
      "Basic Add: 17\n",
      "Scientific Power: 225\n",
      "Programmer AND: 2\n"
     ]
    }
   ],
   "source": [
    "#Hierarchical Inheritance Demo:\n",
    "import math\n",
    "class Calculator:\n",
    "    def greet(self):\n",
    "        return \"Welcome to the Calculator!\"\n",
    "class BasicCalculator(Calculator):\n",
    "    def add(self, a, b):\n",
    "        return a + b\n",
    "    def subtract(self, a, b):\n",
    "        return a - b\n",
    "class ScientificCalculator(Calculator):\n",
    "    def power(self, a, b):\n",
    "        return a ** b\n",
    "    def square_root(self, a):\n",
    "        return math.sqrt(a) if a >= 0 else \"Error!\"\n",
    "class ProgrammerCalculator(Calculator):\n",
    "    def and_operation(self, a, b):\n",
    "        return a & b\n",
    "    def or_operation(self, a, b):\n",
    "        return a | b\n",
    "a=int(input())\n",
    "b=int(input())\n",
    "b_calc = BasicCalculator()\n",
    "s_calc = ScientificCalculator()\n",
    "p_calc = ProgrammerCalculator()\n",
    "print(\"Hierarchical Inheritance Demo:\")\n",
    "print(b_calc.greet())\n",
    "print(\"Basic Add:\", b_calc.add(a,b))\n",
    "print(\"Scientific Power:\", s_calc.power(a,b))\n",
    "print(\"Programmer AND:\", p_calc.and_operation(a,b))"
   ]
  },
  {
   "cell_type": "code",
   "execution_count": 11,
   "id": "a78daea8-06a2-40ae-84ec-1b7ec036ab11",
   "metadata": {},
   "outputs": [
    {
     "name": "stdin",
     "output_type": "stream",
     "text": [
      " 12\n",
      " 5\n"
     ]
    },
    {
     "name": "stdout",
     "output_type": "stream",
     "text": [
      "addition 17\n",
      "subtraction 7\n",
      "multiplication 60\n",
      "division 2.4\n",
      "power 248832\n",
      "square root 3.4641016151377544\n",
      "square root 2.23606797749979\n",
      "modulus 1\n",
      "Factorial of 12 is : 479001600\n",
      "Factorial of 5 is : 120\n",
      "Logarithm of 12: 1.0791812460476247\n",
      "Logarithm of 5: 0.6989700043360187\n"
     ]
    }
   ],
   "source": [
    "#hybrid\n",
    "import math\n",
    "class BasicCalculator:\n",
    "    def add(self, a, b):\n",
    "        return a + b\n",
    "    def subtract(self, a, b):\n",
    "        return a - b\n",
    "class ScientificCalculator(BasicCalculator):\n",
    "    def square_root(self, a):\n",
    "        return math.sqrt(a) if a >= 0 else \"Error! Negative number.\" \n",
    "    def power(self, a, b):\n",
    "        return a ** b\n",
    "class ProgrammerCalculator(BasicCalculator):\n",
    "    def and_operation(self, a, b):\n",
    "        return a & b\n",
    "    def or_operation(self, a, b):\n",
    "        return a | b\n",
    "# Hybrid Calculator (multiple + multilevel)\n",
    "class HybridCalculator(ScientificCalculator, ProgrammerCalculator):\n",
    "    def modulus(self, a, b):\n",
    "        return a % b\n",
    "\n",
    "h_calc = HybridCalculator()\n",
    "a=int(input())\n",
    "b=int(input())\n",
    "print(\"addition\", calc.add(a,b))\n",
    "print(\"subtraction\", calc.subtract(a,b))\n",
    "print(\"multiplication\", calc.multiply(a,b))\n",
    "print(\"division\", calc.divide(a,b))\n",
    "print(\"power\", calc.power(a,b))\n",
    "print(\"square root\", calc.square_root(a))\n",
    "print(\"square root\", calc.square_root(b))\n",
    "print(\"modulus\", calc.modulus(10, 3))\n",
    "print(f\"Factorial of {a} is :\",calc.factorial(a))\n",
    "print(f\"Factorial of {b} is :\",calc.factorial(b))\n",
    "print(f\"Logarithm of {a}:\", calc.logarithm(a))\n",
    "print(f\"Logarithm of {b}:\", calc.logarithm(b))\n",
    "\n",
    "\n"
   ]
  },
  {
   "cell_type": "code",
   "execution_count": 10,
   "id": "7ed1e252-4a20-417b-93a3-33c75d9adc15",
   "metadata": {},
   "outputs": [
    {
     "name": "stdin",
     "output_type": "stream",
     "text": [
      " 12\n",
      " 5\n"
     ]
    },
    {
     "name": "stdout",
     "output_type": "stream",
     "text": [
      "addition 17\n",
      "subtraction 7\n",
      "multiplication 60\n",
      "division 2.4\n",
      "power 248832\n",
      "square root 3.4641016151377544\n",
      "square root 2.23606797749979\n",
      "modulus 1\n",
      "Factorial of 12 is : 479001600\n",
      "Factorial of 5 is : 120\n",
      "Logarithm  1.0791812460476247\n",
      "Logarithm  0.6989700043360187\n"
     ]
    }
   ],
   "source": [
    "import math\n",
    "class BasicCalculator:\n",
    "    def add(self, a, b):\n",
    "        return a + b\n",
    "    def subtract(self, a, b):\n",
    "        return a - b\n",
    "    def multiply(self, a, b):\n",
    "        return a * b\n",
    "    def divide(self, a, b):\n",
    "        if b == 0:\n",
    "            return \"Error! Division by zero.\"\n",
    "        return a / b\n",
    "class ScientificCalculator(BasicCalculator):\n",
    "    def power(self, a, b):\n",
    "        return a ** b\n",
    "    def square_root(self, a):\n",
    "        if a < 0:\n",
    "            return \"Error! Cannot find square root of negative number.\"\n",
    "        return math.sqrt(a)\n",
    "    def modulus(self, a, b):\n",
    "        return a % b\n",
    "class SuperCalculator(ScientificCalculator):\n",
    "    def factorial(self, n):\n",
    "        if n < 0:\n",
    "            return \"Error! Factorial not defined for negative numbers.\"\n",
    "        return math.factorial(n)\n",
    "    def logarithm(self, a, base=10):\n",
    "        if a <= 0:\n",
    "            return \"Error! Logarithm not defined for non-positive numbers.\"\n",
    "        return math.log(a, base)\n",
    "\n",
    "calc = SuperCalculator()\n",
    "a=int(input())\n",
    "b=int(input())\n",
    "print(\"addition\", calc.add(a,b))\n",
    "print(\"subtraction\", calc.subtract(a,b))\n",
    "print(\"multiplication\", calc.multiply(a,b))\n",
    "print(\"division\", calc.divide(a,b))\n",
    "print(\"power\", calc.power(a,b))\n",
    "print(\"square root\", calc.square_root(a))\n",
    "print(\"square root\", calc.square_root(b))\n",
    "print(\"modulus\", calc.modulus(10, 3))\n",
    "print(f\"Factorial of {a} is :\",calc.factorial(a))\n",
    "print(f\"Factorial of {b} is :\",calc.factorial(b))\n",
    "print(f\"Logarithm of {a}:\", calc.logarithm(a))\n",
    "print(f\"Logarithm of {b}:\", calc.logarithm(b))\n"
   ]
  },
  {
   "cell_type": "code",
   "execution_count": null,
   "id": "4bd6d63c-2e41-4836-a582-54d7734eb5f8",
   "metadata": {},
   "outputs": [],
   "source": []
  }
 ],
 "metadata": {
  "kernelspec": {
   "display_name": "Python 3 (ipykernel)",
   "language": "python",
   "name": "python3"
  },
  "language_info": {
   "codemirror_mode": {
    "name": "ipython",
    "version": 3
   },
   "file_extension": ".py",
   "mimetype": "text/x-python",
   "name": "python",
   "nbconvert_exporter": "python",
   "pygments_lexer": "ipython3",
   "version": "3.12.0"
  }
 },
 "nbformat": 4,
 "nbformat_minor": 5
}
