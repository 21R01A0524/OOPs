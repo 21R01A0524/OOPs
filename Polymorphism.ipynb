{
 "cells": [
  {
   "cell_type": "markdown",
   "id": "d99ba99d-7df0-4848-b939-0050ff1f9917",
   "metadata": {},
   "source": [
    "### Polymorphism:\n",
    "- It means \"Many Forms\".\n",
    "- We can achieve polymorphism through the operators,functions and methods.\n",
    "- It exhibts the different behaviour depending on context or type of data in operands.\n",
    "#### Operator Overloading:\n",
    "- In operator overloading to perform different actions based on data types involved.\n",
    "- For example:'+' Operator it acts as addition of 2 numbers and also string concatinatieon for strings.\n",
    "#### Function Polymorphism:\n",
    "- Funtion like length can work with various data structures like data structures(list,string,tuple,dict,set) and return the appropriate length based on the type of object passed to them.\n",
    "##### We can achieve the polymorphism in classes by two ways:\n",
    "#### method Overriding:\n",
    "- It occurs when a subclass defines a method with same name as its parent class method and subclass method overrides the parent class method when called on the child object.\n",
    "- If we want to execute the parent class method then we need to call method with super method. \n",
    "#### method Overloading:\n",
    "- In one class having multiple methods with same name but different number of parameters or different types of paremeters.\n",
    "- When We write multiple methods with same name python doesn't keep all methods.The last method overrides the previous method.\n",
    "- To overcome this problem by using default arguments or variable length of possitional arguments or variable length of keyword arguments.\n",
    "- By using class we can use for multiple arguments."
   ]
  },
  {
   "cell_type": "code",
   "execution_count": 12,
   "id": "eaf3c776-03fe-479e-91fb-63998643af69",
   "metadata": {},
   "outputs": [
    {
     "ename": "TypeError",
     "evalue": "math_add.add() takes 2 positional arguments but 3 were given",
     "output_type": "error",
     "traceback": [
      "\u001b[31m---------------------------------------------------------------------------\u001b[39m",
      "\u001b[31mTypeError\u001b[39m                                 Traceback (most recent call last)",
      "\u001b[36mCell\u001b[39m\u001b[36m \u001b[39m\u001b[32mIn[12]\u001b[39m\u001b[32m, line 9\u001b[39m\n\u001b[32m      7\u001b[39m s=str_add()\n\u001b[32m      8\u001b[39m m=math_add()\n\u001b[32m----> \u001b[39m\u001b[32m9\u001b[39m \u001b[43mm\u001b[49m\u001b[43m.\u001b[49m\u001b[43madd\u001b[49m\u001b[43m(\u001b[49m\u001b[32;43m10\u001b[39;49m\u001b[43m,\u001b[49m\u001b[32;43m5\u001b[39;49m\u001b[43m)\u001b[49m\n\u001b[32m     10\u001b[39m s.add(\u001b[32m10\u001b[39m,\u001b[32m3\u001b[39m)\n",
      "\u001b[31mTypeError\u001b[39m: math_add.add() takes 2 positional arguments but 3 were given"
     ]
    }
   ],
   "source": [
    "class str_add:\n",
    "    def add(s1,s2):\n",
    "        return s1+s2\n",
    "class math_add:\n",
    "    def add(n1,n2):\n",
    "        return n1+n2\n",
    "s=str_add()\n",
    "m=math_add()\n",
    "m.add(10,5)\n",
    "s.add(10,3)"
   ]
  },
  {
   "cell_type": "code",
   "execution_count": 1,
   "id": "c916ee4e-d8ec-4522-974a-dbb66b6193a4",
   "metadata": {},
   "outputs": [
    {
     "name": "stdout",
     "output_type": "stream",
     "text": [
      "5\n",
      "CodeGnan\n",
      "9\n",
      "COdeCOdeCOde\n",
      "codecodecode\n"
     ]
    },
    {
     "ename": "TypeError",
     "evalue": "can't multiply sequence by non-int of type 'str'",
     "output_type": "error",
     "traceback": [
      "\u001b[31m---------------------------------------------------------------------------\u001b[39m",
      "\u001b[31mTypeError\u001b[39m                                 Traceback (most recent call last)",
      "\u001b[36mCell\u001b[39m\u001b[36m \u001b[39m\u001b[32mIn[1]\u001b[39m\u001b[32m, line 7\u001b[39m\n\u001b[32m      5\u001b[39m \u001b[38;5;28mprint\u001b[39m(\u001b[32m3\u001b[39m*\u001b[33m\"\u001b[39m\u001b[33mCOde\u001b[39m\u001b[33m\"\u001b[39m)\n\u001b[32m      6\u001b[39m \u001b[38;5;28mprint\u001b[39m(\u001b[33m\"\u001b[39m\u001b[33mcode\u001b[39m\u001b[33m\"\u001b[39m*\u001b[32m3\u001b[39m)\n\u001b[32m----> \u001b[39m\u001b[32m7\u001b[39m \u001b[38;5;28mprint\u001b[39m(\u001b[33;43m\"\u001b[39;49m\u001b[33;43mCode\u001b[39;49m\u001b[33;43m\"\u001b[39;49m\u001b[43m*\u001b[49m\u001b[33;43m\"\u001b[39;49m\u001b[33;43mcode\u001b[39;49m\u001b[33;43m\"\u001b[39;49m)\u001b[38;5;66;03m#error\u001b[39;00m\n\u001b[32m      8\u001b[39m \u001b[38;5;28mprint\u001b[39m(\u001b[32m3\u001b[39m+\u001b[33m\"\u001b[39m\u001b[33mCode\u001b[39m\u001b[33m\"\u001b[39m)\u001b[38;5;66;03m#error\u001b[39;00m\n",
      "\u001b[31mTypeError\u001b[39m: can't multiply sequence by non-int of type 'str'"
     ]
    }
   ],
   "source": [
    "#operator overloading\n",
    "print(3+2)\n",
    "print(\"Code\"+\"Gnan\")\n",
    "print(3*3)\n",
    "print(3*\"COde\")\n",
    "print(\"code\"*3)\n",
    "print(\"Code\"*\"code\")#error\n",
    "print(3+\"Code\")#error"
   ]
  },
  {
   "cell_type": "code",
   "execution_count": 18,
   "id": "a840ddd2-b2e7-46d0-a9d4-ff09ff44f182",
   "metadata": {},
   "outputs": [
    {
     "name": "stdout",
     "output_type": "stream",
     "text": [
      "8\n",
      "4\n",
      "0\n"
     ]
    }
   ],
   "source": [
    "#Function Polymorphism:\n",
    "print(len(\"COdegnan\"))\n",
    "print(len([1,2,3,4]))\n",
    "print(len(()))"
   ]
  },
  {
   "cell_type": "code",
   "execution_count": 20,
   "id": "a4168db7-1951-41a4-b2ea-64b6a076d6b7",
   "metadata": {},
   "outputs": [
    {
     "name": "stdout",
     "output_type": "stream",
     "text": [
      "Class B\n"
     ]
    }
   ],
   "source": [
    "#method Overriding:\n",
    "class A:\n",
    "    def show(self):\n",
    "        print(\"Class A\")\n",
    "class B(A):\n",
    "    def show(self):\n",
    "        print(\"Class B\")\n",
    "a=A()\n",
    "b=B()\n",
    "b.show()"
   ]
  },
  {
   "cell_type": "code",
   "execution_count": 22,
   "id": "ae054dc8-fdc8-48fa-9412-7cccc5d23550",
   "metadata": {},
   "outputs": [
    {
     "name": "stdout",
     "output_type": "stream",
     "text": [
      "Class A\n",
      "Class B\n"
     ]
    }
   ],
   "source": [
    "#method Overriding with super method to get parent class'\n",
    "class A:\n",
    "    def show(self):\n",
    "        print(\"Class A\")\n",
    "class B(A):\n",
    "    def show(self):\n",
    "        super().show()\n",
    "        print(\"Class B\")\n",
    "a=A()\n",
    "b=B()\n",
    "b.show()"
   ]
  },
  {
   "cell_type": "code",
   "execution_count": 30,
   "id": "899bda04-3c7f-455e-b7f3-8970d11b85ff",
   "metadata": {},
   "outputs": [
    {
     "ename": "TypeError",
     "evalue": "math.add() missing 2 required positional arguments: 's3' and 's4'",
     "output_type": "error",
     "traceback": [
      "\u001b[31m---------------------------------------------------------------------------\u001b[39m",
      "\u001b[31mTypeError\u001b[39m                                 Traceback (most recent call last)",
      "\u001b[36mCell\u001b[39m\u001b[36m \u001b[39m\u001b[32mIn[30]\u001b[39m\u001b[32m, line 11\u001b[39m\n\u001b[32m      9\u001b[39m m=math()\n\u001b[32m     10\u001b[39m m.add(\u001b[32m4\u001b[39m,\u001b[32m5\u001b[39m,\u001b[32m6\u001b[39m,\u001b[32m7\u001b[39m)\u001b[38;5;66;03m#\u001b[39;00m\n\u001b[32m---> \u001b[39m\u001b[32m11\u001b[39m \u001b[43mm\u001b[49m\u001b[43m.\u001b[49m\u001b[43madd\u001b[49m\u001b[43m(\u001b[49m\u001b[32;43m10\u001b[39;49m\u001b[43m,\u001b[49m\u001b[32;43m5\u001b[39;49m\u001b[43m)\u001b[49m\n",
      "\u001b[31mTypeError\u001b[39m: math.add() missing 2 required positional arguments: 's3' and 's4'"
     ]
    }
   ],
   "source": [
    "#method overloading\n",
    "class math:\n",
    "    def add(self,x,y):\n",
    "        return x+y\n",
    "    def add(self,x,y,z):\n",
    "        return x+y+z\n",
    "    def add(self,s1,s2,s3,s4):\n",
    "        return s1+s2+s3+s4\n",
    "    \n",
    "m=math()\n",
    "m.add(4,5,6,7)#22\n",
    "m.add(10,5)#error"
   ]
  },
  {
   "cell_type": "code",
   "execution_count": 7,
   "id": "a2489972-9225-4fe7-9077-12eedb32c0e7",
   "metadata": {},
   "outputs": [
    {
     "ename": "TypeError",
     "evalue": "math.add() missing 2 required positional arguments: 's3' and 's4'",
     "output_type": "error",
     "traceback": [
      "\u001b[31m---------------------------------------------------------------------------\u001b[39m",
      "\u001b[31mTypeError\u001b[39m                                 Traceback (most recent call last)",
      "\u001b[36mCell\u001b[39m\u001b[36m \u001b[39m\u001b[32mIn[7]\u001b[39m\u001b[32m, line 12\u001b[39m\n\u001b[32m      9\u001b[39m     \u001b[38;5;66;03m# def add(self,s1,s2,s3,s4=0):\u001b[39;00m\n\u001b[32m     10\u001b[39m     \u001b[38;5;66;03m#     return s1+s2+s3+s4\u001b[39;00m\n\u001b[32m     11\u001b[39m m=math()\n\u001b[32m---> \u001b[39m\u001b[32m12\u001b[39m \u001b[38;5;28mprint\u001b[39m(\u001b[43mm\u001b[49m\u001b[43m.\u001b[49m\u001b[43madd\u001b[49m\u001b[43m(\u001b[49m\u001b[32;43m4\u001b[39;49m\u001b[43m,\u001b[49m\u001b[32;43m5\u001b[39;49m\u001b[43m)\u001b[49m)\u001b[38;5;66;03m#22\u001b[39;00m\n",
      "\u001b[31mTypeError\u001b[39m: math.add() missing 2 required positional arguments: 's3' and 's4'"
     ]
    }
   ],
   "source": [
    "#method overloading\n",
    "class math:\n",
    "    def add(self,x,y):\n",
    "        return x+y\n",
    "    def add(self,x,y,z):\n",
    "        return x+y+z\n",
    "    def add(self,s1,s2,s3,s4):\n",
    "        return s1+s2+s3+s4\n",
    "    # def add(self,s1,s2,s3,s4=0):\n",
    "    #     return s1+s2+s3+s4\n",
    "m=math()\n",
    "print(m.add(4,5))#22"
   ]
  },
  {
   "cell_type": "code",
   "execution_count": 5,
   "id": "85cdc0c2-7c85-45b0-9237-61a0277354f9",
   "metadata": {},
   "outputs": [
    {
     "name": "stdout",
     "output_type": "stream",
     "text": [
      "9\n"
     ]
    }
   ],
   "source": [
    "#method overloading using default arguments\n",
    "class math:\n",
    "    def add(self,x,y,z=5):\n",
    "        return x+y+z\n",
    "    def add(self,x,y=0):\n",
    "        return x+y+z\n",
    "    def add(self,s1,s3,s2=0):\n",
    "        return s1+s3\n",
    "m=math()\n",
    "print(m.add(4,5))"
   ]
  },
  {
   "cell_type": "code",
   "execution_count": 42,
   "id": "79f6575d-4c6c-4090-ab9d-0350b845f015",
   "metadata": {},
   "outputs": [],
   "source": [
    "#method overloading using variable length of default arguments"
   ]
  },
  {
   "cell_type": "code",
   "execution_count": 4,
   "id": "90fc7a91-c2d8-49d2-9898-779d5b4fea08",
   "metadata": {},
   "outputs": [
    {
     "name": "stdout",
     "output_type": "stream",
     "text": [
      "9\n",
      "5\n",
      "23\n"
     ]
    }
   ],
   "source": [
    "#method overloading with different method name\n",
    "class math:\n",
    "    def add(self,x,y):\n",
    "        return x+y\n",
    "    def Add1(self,x,y,z):\n",
    "        return x+y+z\n",
    "    def add2(self,s1,s2,s3,s4):\n",
    "        return s1+s2+s3+s4\n",
    "m=math()\n",
    "print(m.add(4,5))#22\n",
    "print(m.Add1(1,2,2))\n",
    "print(m.add2(10,5,5,3))#error"
   ]
  },
  {
   "cell_type": "code",
   "execution_count": null,
   "id": "84be8444-47b3-437a-9ff3-f13c44484e0f",
   "metadata": {},
   "outputs": [],
   "source": []
  }
 ],
 "metadata": {
  "kernelspec": {
   "display_name": "Python 3 (ipykernel)",
   "language": "python",
   "name": "python3"
  },
  "language_info": {
   "codemirror_mode": {
    "name": "ipython",
    "version": 3
   },
   "file_extension": ".py",
   "mimetype": "text/x-python",
   "name": "python",
   "nbconvert_exporter": "python",
   "pygments_lexer": "ipython3",
   "version": "3.12.0"
  }
 },
 "nbformat": 4,
 "nbformat_minor": 5
}
